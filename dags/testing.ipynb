{
 "cells": [
  {
   "cell_type": "code",
   "execution_count": 1,
   "metadata": {},
   "outputs": [],
   "source": [
    "import os \n",
    "from pathlib import Path \n",
    "import pandas as pd\n",
    "import numpy as np "
   ]
  },
  {
   "cell_type": "code",
   "execution_count": 2,
   "metadata": {},
   "outputs": [],
   "source": [
    "file_path = Path(os.getcwd()).parent / 'data' / 'raw'\n",
    "list_of_files = os.listdir(file_path)"
   ]
  },
  {
   "cell_type": "code",
   "execution_count": 3,
   "metadata": {},
   "outputs": [],
   "source": [
    "files_with_edition_column = []\n",
    "files_without_no_year_metric = []\n",
    "for i in list_of_files:\n",
    "    df = pd.read_csv(file_path / i)\n",
    "    if 'edition' in list(df.columns):\n",
    "        files_with_edition_column.append(i)\n",
    "    else: \n",
    "        files_without_no_year_metric.append(i)"
   ]
  },
  {
   "cell_type": "code",
   "execution_count": 4,
   "metadata": {},
   "outputs": [
    {
     "name": "stdout",
     "output_type": "stream",
     "text": [
      "Olympic_Athlete_Event_Details.csv\n",
      "Olympic_Event_Results.csv\n",
      "Olympic_Medal_Tally_History.csv\n",
      "Olympic_Games_Summary.csv\n"
     ]
    }
   ],
   "source": [
    "for i in files_with_edition_column:\n",
    "    print(i)"
   ]
  },
  {
   "cell_type": "code",
   "execution_count": 5,
   "metadata": {},
   "outputs": [
    {
     "name": "stderr",
     "output_type": "stream",
     "text": [
      "/Users/sakshamsharma/xraylarch/envs/larch-env/lib/python3.10/site-packages/numpy/core/fromnumeric.py:59: FutureWarning: 'DataFrame.swapaxes' is deprecated and will be removed in a future version. Please use 'DataFrame.transpose' instead.\n",
      "  return bound(*args, **kwds)\n",
      "/Users/sakshamsharma/xraylarch/envs/larch-env/lib/python3.10/site-packages/numpy/core/fromnumeric.py:59: FutureWarning: 'DataFrame.swapaxes' is deprecated and will be removed in a future version. Please use 'DataFrame.transpose' instead.\n",
      "  return bound(*args, **kwds)\n"
     ]
    }
   ],
   "source": [
    "for i in files_without_no_year_metric:\n",
    "    counter = 0 \n",
    "    target_dir = Path(os.getcwd()).parent / 'data'/'staged'/str(i[:-4])\n",
    "    target_dir.mkdir(parents=True, exist_ok=True)\n",
    "    df = pd.read_csv(file_path / i)\n",
    "    list_of_df = np.array_split(df, 15)\n",
    "    for j in range(len(list_of_df)):\n",
    "        path = str(target_dir) + '/'+ str(i) + str(counter)+'.csv'\n",
    "        list_of_df[j].to_csv(path, index = False)\n",
    "        counter = counter + 1"
   ]
  },
  {
   "cell_type": "code",
   "execution_count": 6,
   "metadata": {},
   "outputs": [],
   "source": [
    "for i in files_with_edition_column:\n",
    "    df = pd.read_csv(file_path / i)\n",
    "    df['year'] = df['edition'].astype(str).str[:4]   # extract first 4 chars\n",
    "    df = df.sort_values(by='year')\n",
    "    counter = 0\n",
    "    target_dir = Path(os.getcwd()).parent / 'data'/'staged'/str(i[:-4])\n",
    "    target_dir.mkdir(parents=True, exist_ok=True)\n",
    "    for year in df['year'].unique():\n",
    "        path = str(target_dir) + '/'+ str(i) + str(counter)+'.csv'\n",
    "        temp_df = df[df['year'] == year]\n",
    "        temp_df = temp_df.drop(columns = \"year\")\n",
    "        temp_df.to_csv(path, index=False)\n",
    "        counter = counter + 1\n"
   ]
  },
  {
   "cell_type": "code",
   "execution_count": null,
   "metadata": {},
   "outputs": [],
   "source": []
  },
  {
   "cell_type": "code",
   "execution_count": null,
   "metadata": {},
   "outputs": [],
   "source": []
  }
 ],
 "metadata": {
  "kernelspec": {
   "display_name": "larch-env",
   "language": "python",
   "name": "python3"
  },
  "language_info": {
   "codemirror_mode": {
    "name": "ipython",
    "version": 3
   },
   "file_extension": ".py",
   "mimetype": "text/x-python",
   "name": "python",
   "nbconvert_exporter": "python",
   "pygments_lexer": "ipython3",
   "version": "3.10.13"
  }
 },
 "nbformat": 4,
 "nbformat_minor": 2
}
